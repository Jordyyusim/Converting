{
 "cells": [
  {
   "cell_type": "markdown",
   "metadata": {},
   "source": [
    "# __FROM CSV TO JSON__\n",
    "<HR>"
   ]
  },
  {
   "cell_type": "code",
   "execution_count": null,
   "metadata": {},
   "outputs": [],
   "source": [
    "# import csv\n",
    "# import json\n",
    "\n",
    "# data = []\n",
    "# with open('1.csv', 'r') as mycsv:\n",
    "#     reader = csv.DictReader(mycsv)\n",
    "#     print(reader)s\n",
    "#     for i in reader:\n",
    "#         data.append(i)\n",
    "# print(data)\n",
    "\n",
    "# with open('1.json', 'w') as myjson:\n",
    "#     json.dump(data, myjson)"
   ]
  },
  {
   "cell_type": "markdown",
   "metadata": {},
   "source": [
    "# __FROM JSON TO CSV__\n",
    "<HR>"
   ]
  },
  {
   "cell_type": "code",
   "execution_count": null,
   "metadata": {},
   "outputs": [],
   "source": [
    "import json\n",
    "import csv\n",
    "# with open('2.json', 'r') as myjson:\n",
    "#     datajson = json.load(myjson)\n",
    "#     # print(datajson)\n",
    "\n",
    "# with open('2.csv', 'w', newline='') as mycsv:\n",
    "#     writercsv = csv.DictWriter(mycsv, fieldnames=['id', 'nama', 'Kota'])\n",
    "#     writercsv.writeheader()\n",
    "#     writercsv.writerows(datajson)"
   ]
  }
 ],
 "metadata": {
  "kernelspec": {
   "display_name": "Python 3",
   "language": "python",
   "name": "python3"
  },
  "language_info": {
   "codemirror_mode": {
    "name": "ipython",
    "version": 3
   },
   "file_extension": ".py",
   "mimetype": "text/x-python",
   "name": "python",
   "nbconvert_exporter": "python",
   "pygments_lexer": "ipython3",
   "version": "3.8.1"
  }
 },
 "nbformat": 4,
 "nbformat_minor": 4
}
