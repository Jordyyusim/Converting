{
 "cells": [
  {
   "cell_type": "markdown",
   "metadata": {},
   "source": [
    "# __FROM CSV TO EXCEL__\n",
    "<HR>"
   ]
  },
  {
   "cell_type": "code",
   "execution_count": null,
   "metadata": {},
   "outputs": [],
   "source": [
    "import csv\n",
    "import xlsxwriter\n",
    "\n",
    "with open('1.csv', 'r') as mycsv:\n",
    "     data = []\n",
    "     reader = csv.reader(mycsv)\n",
    "     for i in reader:\n",
    "        data.append(i)\n",
    "# print(reader)\n",
    "book = xlsxwriter.Workbook('1.xlsx')\n",
    "sheet = book.add_worksheet('Halaman1')\n",
    "row = 0\n",
    "for no, nama, kota in data:\n",
    "    sheet.write(row, 0, no)\n",
    "    sheet.write(row, 1, nama)\n",
    "    sheet.write(row, 2, kota)\n",
    "    row += 1\n",
    "book.close()"
   ]
  },
  {
   "cell_type": "code",
   "execution_count": null,
   "metadata": {},
   "outputs": [],
   "source": []
  },
  {
   "cell_type": "code",
   "execution_count": null,
   "metadata": {},
   "outputs": [],
   "source": []
  }
 ],
 "metadata": {
  "kernelspec": {
   "display_name": "Python 3",
   "language": "python",
   "name": "python3"
  },
  "language_info": {
   "codemirror_mode": {
    "name": "ipython",
    "version": 3
   },
   "file_extension": ".py",
   "mimetype": "text/x-python",
   "name": "python",
   "nbconvert_exporter": "python",
   "pygments_lexer": "ipython3",
   "version": "3.8.1"
  }
 },
 "nbformat": 4,
 "nbformat_minor": 4
}
